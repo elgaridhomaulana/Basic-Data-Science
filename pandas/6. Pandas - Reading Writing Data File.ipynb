{
 "cells": [
  {
   "cell_type": "code",
   "execution_count": 1,
   "metadata": {},
   "outputs": [],
   "source": [
    "import numpy as np\n",
    "import pandas as pd"
   ]
  },
  {
   "cell_type": "markdown",
   "metadata": {},
   "source": [
    "## Reading Data CSV"
   ]
  },
  {
   "cell_type": "code",
   "execution_count": 2,
   "metadata": {},
   "outputs": [],
   "source": [
    "datacsv = pd.read_csv('myCSV01.csv')"
   ]
  },
  {
   "cell_type": "code",
   "execution_count": 3,
   "metadata": {},
   "outputs": [
    {
     "data": {
      "text/html": [
       "<div>\n",
       "<style scoped>\n",
       "    .dataframe tbody tr th:only-of-type {\n",
       "        vertical-align: middle;\n",
       "    }\n",
       "\n",
       "    .dataframe tbody tr th {\n",
       "        vertical-align: top;\n",
       "    }\n",
       "\n",
       "    .dataframe thead th {\n",
       "        text-align: right;\n",
       "    }\n",
       "</style>\n",
       "<table border=\"1\" class=\"dataframe\">\n",
       "  <thead>\n",
       "    <tr style=\"text-align: right;\">\n",
       "      <th></th>\n",
       "      <th>white</th>\n",
       "      <th>red</th>\n",
       "      <th>blue</th>\n",
       "      <th>green</th>\n",
       "      <th>animal</th>\n",
       "    </tr>\n",
       "  </thead>\n",
       "  <tbody>\n",
       "    <tr>\n",
       "      <th>0</th>\n",
       "      <td>1</td>\n",
       "      <td>5</td>\n",
       "      <td>2</td>\n",
       "      <td>3</td>\n",
       "      <td>cat</td>\n",
       "    </tr>\n",
       "    <tr>\n",
       "      <th>1</th>\n",
       "      <td>2</td>\n",
       "      <td>7</td>\n",
       "      <td>8</td>\n",
       "      <td>5</td>\n",
       "      <td>dog</td>\n",
       "    </tr>\n",
       "    <tr>\n",
       "      <th>2</th>\n",
       "      <td>3</td>\n",
       "      <td>3</td>\n",
       "      <td>6</td>\n",
       "      <td>7</td>\n",
       "      <td>horse</td>\n",
       "    </tr>\n",
       "    <tr>\n",
       "      <th>3</th>\n",
       "      <td>2</td>\n",
       "      <td>2</td>\n",
       "      <td>8</td>\n",
       "      <td>3</td>\n",
       "      <td>duck</td>\n",
       "    </tr>\n",
       "    <tr>\n",
       "      <th>4</th>\n",
       "      <td>4</td>\n",
       "      <td>4</td>\n",
       "      <td>2</td>\n",
       "      <td>1</td>\n",
       "      <td>mouse</td>\n",
       "    </tr>\n",
       "  </tbody>\n",
       "</table>\n",
       "</div>"
      ],
      "text/plain": [
       "   white   red   blue   green  animal\n",
       "0      1     5      2       3     cat\n",
       "1      2     7      8       5     dog\n",
       "2      3     3      6       7   horse\n",
       "3      2     2      8       3    duck\n",
       "4      4     4      2       1   mouse"
      ]
     },
     "execution_count": 3,
     "metadata": {},
     "output_type": "execute_result"
    }
   ],
   "source": [
    "datacsv"
   ]
  },
  {
   "cell_type": "code",
   "execution_count": 4,
   "metadata": {},
   "outputs": [
    {
     "name": "stderr",
     "output_type": "stream",
     "text": [
      "/home/elga/anaconda3/lib/python3.7/site-packages/ipykernel_launcher.py:1: FutureWarning: read_table is deprecated, use read_csv instead.\n",
      "  \"\"\"Entry point for launching an IPython kernel.\n"
     ]
    },
    {
     "data": {
      "text/html": [
       "<div>\n",
       "<style scoped>\n",
       "    .dataframe tbody tr th:only-of-type {\n",
       "        vertical-align: middle;\n",
       "    }\n",
       "\n",
       "    .dataframe tbody tr th {\n",
       "        vertical-align: top;\n",
       "    }\n",
       "\n",
       "    .dataframe thead th {\n",
       "        text-align: right;\n",
       "    }\n",
       "</style>\n",
       "<table border=\"1\" class=\"dataframe\">\n",
       "  <thead>\n",
       "    <tr style=\"text-align: right;\">\n",
       "      <th></th>\n",
       "      <th>white</th>\n",
       "      <th>red</th>\n",
       "      <th>blue</th>\n",
       "      <th>green</th>\n",
       "      <th>animal</th>\n",
       "    </tr>\n",
       "  </thead>\n",
       "  <tbody>\n",
       "    <tr>\n",
       "      <th>0</th>\n",
       "      <td>1</td>\n",
       "      <td>5</td>\n",
       "      <td>2</td>\n",
       "      <td>3</td>\n",
       "      <td>cat</td>\n",
       "    </tr>\n",
       "    <tr>\n",
       "      <th>1</th>\n",
       "      <td>2</td>\n",
       "      <td>7</td>\n",
       "      <td>8</td>\n",
       "      <td>5</td>\n",
       "      <td>dog</td>\n",
       "    </tr>\n",
       "    <tr>\n",
       "      <th>2</th>\n",
       "      <td>3</td>\n",
       "      <td>3</td>\n",
       "      <td>6</td>\n",
       "      <td>7</td>\n",
       "      <td>horse</td>\n",
       "    </tr>\n",
       "    <tr>\n",
       "      <th>3</th>\n",
       "      <td>2</td>\n",
       "      <td>2</td>\n",
       "      <td>8</td>\n",
       "      <td>3</td>\n",
       "      <td>duck</td>\n",
       "    </tr>\n",
       "    <tr>\n",
       "      <th>4</th>\n",
       "      <td>4</td>\n",
       "      <td>4</td>\n",
       "      <td>2</td>\n",
       "      <td>1</td>\n",
       "      <td>mouse</td>\n",
       "    </tr>\n",
       "  </tbody>\n",
       "</table>\n",
       "</div>"
      ],
      "text/plain": [
       "   white   red   blue   green  animal\n",
       "0      1     5      2       3     cat\n",
       "1      2     7      8       5     dog\n",
       "2      3     3      6       7   horse\n",
       "3      2     2      8       3    duck\n",
       "4      4     4      2       1   mouse"
      ]
     },
     "execution_count": 4,
     "metadata": {},
     "output_type": "execute_result"
    }
   ],
   "source": [
    "pd.read_table('myCSV01.csv', sep=',')"
   ]
  },
  {
   "cell_type": "markdown",
   "metadata": {},
   "source": [
    "## Writing to CSV"
   ]
  },
  {
   "cell_type": "code",
   "execution_count": 5,
   "metadata": {},
   "outputs": [],
   "source": [
    "frame = pd.DataFrame(np.random.random(16).reshape(4,4),\n",
    "                    index=['white', 'black', 'green', 'blue'],\n",
    "                    columns=['a', 'b', 'c', 'd'])"
   ]
  },
  {
   "cell_type": "code",
   "execution_count": 6,
   "metadata": {},
   "outputs": [],
   "source": [
    "frame.to_csv('frametocsv.csv')"
   ]
  },
  {
   "cell_type": "code",
   "execution_count": 7,
   "metadata": {},
   "outputs": [],
   "source": [
    "frame.to_csv('frametocsv2.csv', index=False, header=False)"
   ]
  },
  {
   "cell_type": "code",
   "execution_count": 10,
   "metadata": {},
   "outputs": [
    {
     "data": {
      "text/html": [
       "<div>\n",
       "<style scoped>\n",
       "    .dataframe tbody tr th:only-of-type {\n",
       "        vertical-align: middle;\n",
       "    }\n",
       "\n",
       "    .dataframe tbody tr th {\n",
       "        vertical-align: top;\n",
       "    }\n",
       "\n",
       "    .dataframe thead th {\n",
       "        text-align: right;\n",
       "    }\n",
       "</style>\n",
       "<table border=\"1\" class=\"dataframe\">\n",
       "  <thead>\n",
       "    <tr style=\"text-align: right;\">\n",
       "      <th></th>\n",
       "      <th>pen</th>\n",
       "      <th>mug</th>\n",
       "      <th>pencil</th>\n",
       "      <th>glass</th>\n",
       "      <th>jar</th>\n",
       "    </tr>\n",
       "  </thead>\n",
       "  <tbody>\n",
       "    <tr>\n",
       "      <th>red</th>\n",
       "      <td>6.0</td>\n",
       "      <td>NaN</td>\n",
       "      <td>NaN</td>\n",
       "      <td>6.0</td>\n",
       "      <td>NaN</td>\n",
       "    </tr>\n",
       "    <tr>\n",
       "      <th>white</th>\n",
       "      <td>NaN</td>\n",
       "      <td>NaN</td>\n",
       "      <td>NaN</td>\n",
       "      <td>NaN</td>\n",
       "      <td>NaN</td>\n",
       "    </tr>\n",
       "  </tbody>\n",
       "</table>\n",
       "</div>"
      ],
      "text/plain": [
       "       pen  mug  pencil  glass  jar\n",
       "red    6.0  NaN     NaN    6.0  NaN\n",
       "white  NaN  NaN     NaN    NaN  NaN"
      ]
     },
     "execution_count": 10,
     "metadata": {},
     "output_type": "execute_result"
    }
   ],
   "source": [
    "frame2 = pd.DataFrame([[6,np.nan, np.nan, 6, np.nan],[np.nan, np.nan, np.nan, np.nan, np.nan]],\n",
    "                     index= ['red', 'white'],\n",
    "                     columns= ['pen', 'mug', 'pencil', 'glass', 'jar'])\n",
    "frame2"
   ]
  },
  {
   "cell_type": "code",
   "execution_count": 12,
   "metadata": {},
   "outputs": [],
   "source": [
    "frame2.to_csv('na_rep.csv', na_rep='NULL')"
   ]
  },
  {
   "cell_type": "markdown",
   "metadata": {},
   "source": [
    "## Writing and Reading to HTML"
   ]
  },
  {
   "cell_type": "code",
   "execution_count": 13,
   "metadata": {},
   "outputs": [],
   "source": [
    "frame3 = pd.DataFrame(np.arange(4).reshape(2,2))"
   ]
  },
  {
   "cell_type": "code",
   "execution_count": 15,
   "metadata": {},
   "outputs": [
    {
     "name": "stdout",
     "output_type": "stream",
     "text": [
      "<table border=\"1\" class=\"dataframe\">\n",
      "  <thead>\n",
      "    <tr style=\"text-align: right;\">\n",
      "      <th></th>\n",
      "      <th>0</th>\n",
      "      <th>1</th>\n",
      "    </tr>\n",
      "  </thead>\n",
      "  <tbody>\n",
      "    <tr>\n",
      "      <th>0</th>\n",
      "      <td>0</td>\n",
      "      <td>1</td>\n",
      "    </tr>\n",
      "    <tr>\n",
      "      <th>1</th>\n",
      "      <td>2</td>\n",
      "      <td>3</td>\n",
      "    </tr>\n",
      "  </tbody>\n",
      "</table>\n"
     ]
    }
   ],
   "source": [
    "print(frame3.to_html())"
   ]
  },
  {
   "cell_type": "code",
   "execution_count": 16,
   "metadata": {},
   "outputs": [
    {
     "data": {
      "text/html": [
       "<div>\n",
       "<style scoped>\n",
       "    .dataframe tbody tr th:only-of-type {\n",
       "        vertical-align: middle;\n",
       "    }\n",
       "\n",
       "    .dataframe tbody tr th {\n",
       "        vertical-align: top;\n",
       "    }\n",
       "\n",
       "    .dataframe thead th {\n",
       "        text-align: right;\n",
       "    }\n",
       "</style>\n",
       "<table border=\"1\" class=\"dataframe\">\n",
       "  <thead>\n",
       "    <tr style=\"text-align: right;\">\n",
       "      <th></th>\n",
       "      <th>up</th>\n",
       "      <th>down</th>\n",
       "      <th>right</th>\n",
       "      <th>left</th>\n",
       "    </tr>\n",
       "  </thead>\n",
       "  <tbody>\n",
       "    <tr>\n",
       "      <th>white</th>\n",
       "      <td>0.666239</td>\n",
       "      <td>0.413458</td>\n",
       "      <td>0.570926</td>\n",
       "      <td>0.728232</td>\n",
       "    </tr>\n",
       "    <tr>\n",
       "      <th>black</th>\n",
       "      <td>0.052431</td>\n",
       "      <td>0.559741</td>\n",
       "      <td>0.029672</td>\n",
       "      <td>0.275942</td>\n",
       "    </tr>\n",
       "    <tr>\n",
       "      <th>green</th>\n",
       "      <td>0.238792</td>\n",
       "      <td>0.206234</td>\n",
       "      <td>0.595024</td>\n",
       "      <td>0.738214</td>\n",
       "    </tr>\n",
       "    <tr>\n",
       "      <th>blue</th>\n",
       "      <td>0.258157</td>\n",
       "      <td>0.279205</td>\n",
       "      <td>0.654155</td>\n",
       "      <td>0.093681</td>\n",
       "    </tr>\n",
       "  </tbody>\n",
       "</table>\n",
       "</div>"
      ],
      "text/plain": [
       "             up      down     right      left\n",
       "white  0.666239  0.413458  0.570926  0.728232\n",
       "black  0.052431  0.559741  0.029672  0.275942\n",
       "green  0.238792  0.206234  0.595024  0.738214\n",
       "blue   0.258157  0.279205  0.654155  0.093681"
      ]
     },
     "execution_count": 16,
     "metadata": {},
     "output_type": "execute_result"
    }
   ],
   "source": [
    "frame4 = pd.DataFrame(np.random.random((4,4)),\n",
    "                     index = ['white', 'black', 'green', 'blue'],\n",
    "                     columns = ['up', 'down', 'right', 'left'])\n",
    "frame4"
   ]
  },
  {
   "cell_type": "code",
   "execution_count": 17,
   "metadata": {},
   "outputs": [],
   "source": [
    "s = ['<HTML>']\n",
    "s.append('<HEAD><TITLE>My DataFrame</TITLE></HEAD>')\n",
    "s.append('<BODY>')\n",
    "s.append(frame4.to_html())\n",
    "s.append('</BODY></HTML>')\n",
    "html = \"\".join(s)"
   ]
  },
  {
   "cell_type": "code",
   "execution_count": 18,
   "metadata": {},
   "outputs": [],
   "source": [
    "html_file = open('frame.html', 'w')"
   ]
  },
  {
   "cell_type": "code",
   "execution_count": 19,
   "metadata": {},
   "outputs": [
    {
     "data": {
      "text/plain": [
       "837"
      ]
     },
     "execution_count": 19,
     "metadata": {},
     "output_type": "execute_result"
    }
   ],
   "source": [
    "html_file.write(html)"
   ]
  },
  {
   "cell_type": "code",
   "execution_count": 20,
   "metadata": {},
   "outputs": [],
   "source": [
    "html_file.close()"
   ]
  },
  {
   "cell_type": "code",
   "execution_count": 21,
   "metadata": {},
   "outputs": [
    {
     "data": {
      "text/html": [
       "<div>\n",
       "<style scoped>\n",
       "    .dataframe tbody tr th:only-of-type {\n",
       "        vertical-align: middle;\n",
       "    }\n",
       "\n",
       "    .dataframe tbody tr th {\n",
       "        vertical-align: top;\n",
       "    }\n",
       "\n",
       "    .dataframe thead th {\n",
       "        text-align: right;\n",
       "    }\n",
       "</style>\n",
       "<table border=\"1\" class=\"dataframe\">\n",
       "  <thead>\n",
       "    <tr style=\"text-align: right;\">\n",
       "      <th></th>\n",
       "      <th>Unnamed: 0</th>\n",
       "      <th>up</th>\n",
       "      <th>down</th>\n",
       "      <th>right</th>\n",
       "      <th>left</th>\n",
       "    </tr>\n",
       "  </thead>\n",
       "  <tbody>\n",
       "    <tr>\n",
       "      <th>0</th>\n",
       "      <td>white</td>\n",
       "      <td>0.666239</td>\n",
       "      <td>0.413458</td>\n",
       "      <td>0.570926</td>\n",
       "      <td>0.728232</td>\n",
       "    </tr>\n",
       "    <tr>\n",
       "      <th>1</th>\n",
       "      <td>black</td>\n",
       "      <td>0.052431</td>\n",
       "      <td>0.559741</td>\n",
       "      <td>0.029672</td>\n",
       "      <td>0.275942</td>\n",
       "    </tr>\n",
       "    <tr>\n",
       "      <th>2</th>\n",
       "      <td>green</td>\n",
       "      <td>0.238792</td>\n",
       "      <td>0.206234</td>\n",
       "      <td>0.595024</td>\n",
       "      <td>0.738214</td>\n",
       "    </tr>\n",
       "    <tr>\n",
       "      <th>3</th>\n",
       "      <td>blue</td>\n",
       "      <td>0.258157</td>\n",
       "      <td>0.279205</td>\n",
       "      <td>0.654155</td>\n",
       "      <td>0.093681</td>\n",
       "    </tr>\n",
       "  </tbody>\n",
       "</table>\n",
       "</div>"
      ],
      "text/plain": [
       "  Unnamed: 0        up      down     right      left\n",
       "0      white  0.666239  0.413458  0.570926  0.728232\n",
       "1      black  0.052431  0.559741  0.029672  0.275942\n",
       "2      green  0.238792  0.206234  0.595024  0.738214\n",
       "3       blue  0.258157  0.279205  0.654155  0.093681"
      ]
     },
     "execution_count": 21,
     "metadata": {},
     "output_type": "execute_result"
    }
   ],
   "source": [
    "web_frame = pd.read_html('frame.html')\n",
    "web_frame[0]"
   ]
  },
  {
   "cell_type": "code",
   "execution_count": 22,
   "metadata": {},
   "outputs": [],
   "source": [
    "ubuntu = pd.read_html(\"https://id.wikipedia.org/wiki/Ubuntu\")"
   ]
  },
  {
   "cell_type": "code",
   "execution_count": 27,
   "metadata": {},
   "outputs": [
    {
     "data": {
      "text/html": [
       "<div>\n",
       "<style scoped>\n",
       "    .dataframe tbody tr th:only-of-type {\n",
       "        vertical-align: middle;\n",
       "    }\n",
       "\n",
       "    .dataframe tbody tr th {\n",
       "        vertical-align: top;\n",
       "    }\n",
       "\n",
       "    .dataframe thead tr th {\n",
       "        text-align: left;\n",
       "    }\n",
       "</style>\n",
       "<table border=\"1\" class=\"dataframe\">\n",
       "  <thead>\n",
       "    <tr>\n",
       "      <th></th>\n",
       "      <th>Versi</th>\n",
       "      <th>Kode nama</th>\n",
       "      <th>Tanggal Perilisan</th>\n",
       "      <th colspan=\"2\" halign=\"left\">Didukung sampai</th>\n",
       "    </tr>\n",
       "    <tr>\n",
       "      <th></th>\n",
       "      <th>Versi</th>\n",
       "      <th>Kode nama</th>\n",
       "      <th>Tanggal Perilisan</th>\n",
       "      <th>Desktop</th>\n",
       "      <th>Server</th>\n",
       "    </tr>\n",
       "  </thead>\n",
       "  <tbody>\n",
       "    <tr>\n",
       "      <th>0</th>\n",
       "      <td>4.10</td>\n",
       "      <td>Warty Warthog</td>\n",
       "      <td>20-10-2004</td>\n",
       "      <td>2006-04-30</td>\n",
       "      <td>2006-04-30</td>\n",
       "    </tr>\n",
       "    <tr>\n",
       "      <th>1</th>\n",
       "      <td>5.04</td>\n",
       "      <td>Hoary Hedgehog</td>\n",
       "      <td>08-04-2005</td>\n",
       "      <td>2006-10-31</td>\n",
       "      <td>2006-10-31</td>\n",
       "    </tr>\n",
       "    <tr>\n",
       "      <th>2</th>\n",
       "      <td>5.10</td>\n",
       "      <td>Breezy Badger</td>\n",
       "      <td>13-10-2005</td>\n",
       "      <td>2007-04-13</td>\n",
       "      <td>2007-04-13</td>\n",
       "    </tr>\n",
       "    <tr>\n",
       "      <th>3</th>\n",
       "      <td>6.06 LTS</td>\n",
       "      <td>Dapper Drake</td>\n",
       "      <td>01-06-2006</td>\n",
       "      <td>2009-07-14</td>\n",
       "      <td>2011-06-01</td>\n",
       "    </tr>\n",
       "    <tr>\n",
       "      <th>4</th>\n",
       "      <td>6.10</td>\n",
       "      <td>Edgy Eft</td>\n",
       "      <td>26-10-2006</td>\n",
       "      <td>2008-04-25</td>\n",
       "      <td>2008-04-25</td>\n",
       "    </tr>\n",
       "    <tr>\n",
       "      <th>5</th>\n",
       "      <td>7.04</td>\n",
       "      <td>Feisty Fawn</td>\n",
       "      <td>19-04-2007</td>\n",
       "      <td>2008-10-19</td>\n",
       "      <td>2008-10-19</td>\n",
       "    </tr>\n",
       "    <tr>\n",
       "      <th>6</th>\n",
       "      <td>7.10</td>\n",
       "      <td>Gutsy Gibbon</td>\n",
       "      <td>08-10-2007</td>\n",
       "      <td>2009-04-18</td>\n",
       "      <td>2009-04-18</td>\n",
       "    </tr>\n",
       "    <tr>\n",
       "      <th>7</th>\n",
       "      <td>8.04 LTS</td>\n",
       "      <td>Hardy Heron</td>\n",
       "      <td>24-04-2008</td>\n",
       "      <td>2011-05-12</td>\n",
       "      <td>2013-04</td>\n",
       "    </tr>\n",
       "    <tr>\n",
       "      <th>8</th>\n",
       "      <td>8.10</td>\n",
       "      <td>Intrepid Ibex</td>\n",
       "      <td>30-10-2008</td>\n",
       "      <td>2010-04-30</td>\n",
       "      <td>2010-04-30</td>\n",
       "    </tr>\n",
       "    <tr>\n",
       "      <th>9</th>\n",
       "      <td>9.04</td>\n",
       "      <td>Jaunty Jackalope</td>\n",
       "      <td>23-04-2009</td>\n",
       "      <td>2010-10-23</td>\n",
       "      <td>2010-10-23</td>\n",
       "    </tr>\n",
       "    <tr>\n",
       "      <th>10</th>\n",
       "      <td>9.10</td>\n",
       "      <td>Karmic Koala</td>\n",
       "      <td>29-10-2009</td>\n",
       "      <td>2011-04-30</td>\n",
       "      <td>2011-04-30</td>\n",
       "    </tr>\n",
       "    <tr>\n",
       "      <th>11</th>\n",
       "      <td>10.04 LTS</td>\n",
       "      <td>Lucid Lynx</td>\n",
       "      <td>29-04-2010</td>\n",
       "      <td>2013-04</td>\n",
       "      <td>2015-04</td>\n",
       "    </tr>\n",
       "    <tr>\n",
       "      <th>12</th>\n",
       "      <td>10.10</td>\n",
       "      <td>Maverick Meerkat</td>\n",
       "      <td>10-10-2010</td>\n",
       "      <td>2012-04-10</td>\n",
       "      <td>2012-04-10</td>\n",
       "    </tr>\n",
       "    <tr>\n",
       "      <th>13</th>\n",
       "      <td>11.04</td>\n",
       "      <td>Natty Narwhal</td>\n",
       "      <td>28-04-2011</td>\n",
       "      <td>2012-10-28</td>\n",
       "      <td>2012-10-28</td>\n",
       "    </tr>\n",
       "    <tr>\n",
       "      <th>14</th>\n",
       "      <td>11.10</td>\n",
       "      <td>Oneiric Ocelot</td>\n",
       "      <td>13-10-2011</td>\n",
       "      <td>2013-05-09</td>\n",
       "      <td>2013-05-09</td>\n",
       "    </tr>\n",
       "    <tr>\n",
       "      <th>15</th>\n",
       "      <td>12.04 LTS</td>\n",
       "      <td>Precise Pangolin</td>\n",
       "      <td>26-04-2012</td>\n",
       "      <td>2017-04-28</td>\n",
       "      <td>2017-04-28</td>\n",
       "    </tr>\n",
       "    <tr>\n",
       "      <th>16</th>\n",
       "      <td>12.10</td>\n",
       "      <td>Quantal Quetzal</td>\n",
       "      <td>18-10-2012</td>\n",
       "      <td>2014-05-16</td>\n",
       "      <td>2014-05-16</td>\n",
       "    </tr>\n",
       "    <tr>\n",
       "      <th>17</th>\n",
       "      <td>13.04</td>\n",
       "      <td>Raring Ringtail</td>\n",
       "      <td>25-04-2013</td>\n",
       "      <td>2014-01-27</td>\n",
       "      <td>2014-01-27</td>\n",
       "    </tr>\n",
       "    <tr>\n",
       "      <th>18</th>\n",
       "      <td>13.10</td>\n",
       "      <td>Saucy Salamander</td>\n",
       "      <td>17-10-2013</td>\n",
       "      <td>2014-07-17</td>\n",
       "      <td>2014-07-17</td>\n",
       "    </tr>\n",
       "    <tr>\n",
       "      <th>19</th>\n",
       "      <td>14.04 LTS</td>\n",
       "      <td>Trusty Tahr</td>\n",
       "      <td>17-04-2014</td>\n",
       "      <td>2019-04</td>\n",
       "      <td>2019-04</td>\n",
       "    </tr>\n",
       "    <tr>\n",
       "      <th>20</th>\n",
       "      <td>14.10</td>\n",
       "      <td>Utopic Unicorn</td>\n",
       "      <td>23-10-2014</td>\n",
       "      <td>2015-07-23</td>\n",
       "      <td>2015-07-23</td>\n",
       "    </tr>\n",
       "    <tr>\n",
       "      <th>21</th>\n",
       "      <td>15.04</td>\n",
       "      <td>Vivid Vervet</td>\n",
       "      <td>23-04-2015</td>\n",
       "      <td>2016-02-04</td>\n",
       "      <td>2016-02-04</td>\n",
       "    </tr>\n",
       "    <tr>\n",
       "      <th>22</th>\n",
       "      <td>15.10</td>\n",
       "      <td>Wily Werewolf</td>\n",
       "      <td>22-10-2015</td>\n",
       "      <td>2016-07-28</td>\n",
       "      <td>2016-07-28</td>\n",
       "    </tr>\n",
       "    <tr>\n",
       "      <th>23</th>\n",
       "      <td>16.04 LTS</td>\n",
       "      <td>Xenial Xerus</td>\n",
       "      <td>21-04-2016</td>\n",
       "      <td>2021-04</td>\n",
       "      <td>2021-04</td>\n",
       "    </tr>\n",
       "    <tr>\n",
       "      <th>24</th>\n",
       "      <td>16.10</td>\n",
       "      <td>Yakkety Yak</td>\n",
       "      <td>13-10-2016</td>\n",
       "      <td>2017-07-20</td>\n",
       "      <td>2017-07-20</td>\n",
       "    </tr>\n",
       "    <tr>\n",
       "      <th>25</th>\n",
       "      <td>17.04</td>\n",
       "      <td>Zetsy Zapus</td>\n",
       "      <td>12-04-2017</td>\n",
       "      <td>2018-01-13</td>\n",
       "      <td>2018-01-13</td>\n",
       "    </tr>\n",
       "    <tr>\n",
       "      <th>26</th>\n",
       "      <td>17.10</td>\n",
       "      <td>Artful Aardvark</td>\n",
       "      <td>19-10-2017[73]</td>\n",
       "      <td>2018-07-18</td>\n",
       "      <td>2018-07-18</td>\n",
       "    </tr>\n",
       "    <tr>\n",
       "      <th>27</th>\n",
       "      <td>18.04 LTS</td>\n",
       "      <td>Bionic Beaver</td>\n",
       "      <td>26-04-2018[74]</td>\n",
       "      <td>2028-04</td>\n",
       "      <td>2028-04</td>\n",
       "    </tr>\n",
       "    <tr>\n",
       "      <th>28</th>\n",
       "      <td>18.10</td>\n",
       "      <td>Cosmic Cuttlefish[75]</td>\n",
       "      <td>18-10-2018[76]</td>\n",
       "      <td>2019-07</td>\n",
       "      <td>2019-07</td>\n",
       "    </tr>\n",
       "    <tr>\n",
       "      <th>29</th>\n",
       "      <td>19.04</td>\n",
       "      <td>Disco Dingo[77]</td>\n",
       "      <td>??-04-2019</td>\n",
       "      <td>2020-01</td>\n",
       "      <td>2020-01</td>\n",
       "    </tr>\n",
       "    <tr>\n",
       "      <th>30</th>\n",
       "      <td>Warna</td>\n",
       "      <td>Warna</td>\n",
       "      <td>Arti</td>\n",
       "      <td>Arti</td>\n",
       "      <td>Arti</td>\n",
       "    </tr>\n",
       "    <tr>\n",
       "      <th>31</th>\n",
       "      <td>Merah</td>\n",
       "      <td>Merah</td>\n",
       "      <td>Sudah tidak didukung</td>\n",
       "      <td>Sudah tidak didukung</td>\n",
       "      <td>Sudah tidak didukung</td>\n",
       "    </tr>\n",
       "    <tr>\n",
       "      <th>32</th>\n",
       "      <td>Hijau</td>\n",
       "      <td>Hijau</td>\n",
       "      <td>Masih didukung</td>\n",
       "      <td>Masih didukung</td>\n",
       "      <td>Masih didukung</td>\n",
       "    </tr>\n",
       "    <tr>\n",
       "      <th>33</th>\n",
       "      <td>Biru</td>\n",
       "      <td>Biru</td>\n",
       "      <td>Rilis masa depan</td>\n",
       "      <td>Rilis masa depan</td>\n",
       "      <td>Rilis masa depan</td>\n",
       "    </tr>\n",
       "  </tbody>\n",
       "</table>\n",
       "</div>"
      ],
      "text/plain": [
       "        Versi              Kode nama     Tanggal Perilisan  \\\n",
       "        Versi              Kode nama     Tanggal Perilisan   \n",
       "0        4.10          Warty Warthog            20-10-2004   \n",
       "1        5.04         Hoary Hedgehog            08-04-2005   \n",
       "2        5.10          Breezy Badger            13-10-2005   \n",
       "3    6.06 LTS           Dapper Drake            01-06-2006   \n",
       "4        6.10               Edgy Eft            26-10-2006   \n",
       "5        7.04            Feisty Fawn            19-04-2007   \n",
       "6        7.10           Gutsy Gibbon            08-10-2007   \n",
       "7    8.04 LTS            Hardy Heron            24-04-2008   \n",
       "8        8.10          Intrepid Ibex            30-10-2008   \n",
       "9        9.04       Jaunty Jackalope            23-04-2009   \n",
       "10       9.10           Karmic Koala            29-10-2009   \n",
       "11  10.04 LTS             Lucid Lynx            29-04-2010   \n",
       "12      10.10       Maverick Meerkat            10-10-2010   \n",
       "13      11.04          Natty Narwhal            28-04-2011   \n",
       "14      11.10         Oneiric Ocelot            13-10-2011   \n",
       "15  12.04 LTS       Precise Pangolin            26-04-2012   \n",
       "16      12.10        Quantal Quetzal            18-10-2012   \n",
       "17      13.04        Raring Ringtail            25-04-2013   \n",
       "18      13.10       Saucy Salamander            17-10-2013   \n",
       "19  14.04 LTS            Trusty Tahr            17-04-2014   \n",
       "20      14.10         Utopic Unicorn            23-10-2014   \n",
       "21      15.04           Vivid Vervet            23-04-2015   \n",
       "22      15.10          Wily Werewolf            22-10-2015   \n",
       "23  16.04 LTS           Xenial Xerus            21-04-2016   \n",
       "24      16.10            Yakkety Yak            13-10-2016   \n",
       "25      17.04            Zetsy Zapus            12-04-2017   \n",
       "26      17.10        Artful Aardvark        19-10-2017[73]   \n",
       "27  18.04 LTS          Bionic Beaver        26-04-2018[74]   \n",
       "28      18.10  Cosmic Cuttlefish[75]        18-10-2018[76]   \n",
       "29      19.04        Disco Dingo[77]            ??-04-2019   \n",
       "30      Warna                  Warna                  Arti   \n",
       "31      Merah                  Merah  Sudah tidak didukung   \n",
       "32      Hijau                  Hijau        Masih didukung   \n",
       "33       Biru                   Biru      Rilis masa depan   \n",
       "\n",
       "         Didukung sampai                        \n",
       "                 Desktop                Server  \n",
       "0             2006-04-30            2006-04-30  \n",
       "1             2006-10-31            2006-10-31  \n",
       "2             2007-04-13            2007-04-13  \n",
       "3             2009-07-14            2011-06-01  \n",
       "4             2008-04-25            2008-04-25  \n",
       "5             2008-10-19            2008-10-19  \n",
       "6             2009-04-18            2009-04-18  \n",
       "7             2011-05-12               2013-04  \n",
       "8             2010-04-30            2010-04-30  \n",
       "9             2010-10-23            2010-10-23  \n",
       "10            2011-04-30            2011-04-30  \n",
       "11               2013-04               2015-04  \n",
       "12            2012-04-10            2012-04-10  \n",
       "13            2012-10-28            2012-10-28  \n",
       "14            2013-05-09            2013-05-09  \n",
       "15            2017-04-28            2017-04-28  \n",
       "16            2014-05-16            2014-05-16  \n",
       "17            2014-01-27            2014-01-27  \n",
       "18            2014-07-17            2014-07-17  \n",
       "19               2019-04               2019-04  \n",
       "20            2015-07-23            2015-07-23  \n",
       "21            2016-02-04            2016-02-04  \n",
       "22            2016-07-28            2016-07-28  \n",
       "23               2021-04               2021-04  \n",
       "24            2017-07-20            2017-07-20  \n",
       "25            2018-01-13            2018-01-13  \n",
       "26            2018-07-18            2018-07-18  \n",
       "27               2028-04               2028-04  \n",
       "28               2019-07               2019-07  \n",
       "29               2020-01               2020-01  \n",
       "30                  Arti                  Arti  \n",
       "31  Sudah tidak didukung  Sudah tidak didukung  \n",
       "32        Masih didukung        Masih didukung  \n",
       "33      Rilis masa depan      Rilis masa depan  "
      ]
     },
     "execution_count": 27,
     "metadata": {},
     "output_type": "execute_result"
    }
   ],
   "source": [
    "ubuntu[4]"
   ]
  },
  {
   "cell_type": "markdown",
   "metadata": {},
   "source": [
    "## Reading data From XML"
   ]
  },
  {
   "cell_type": "code",
   "execution_count": 28,
   "metadata": {},
   "outputs": [],
   "source": [
    "from lxml import objectify"
   ]
  },
  {
   "cell_type": "code",
   "execution_count": 39,
   "metadata": {},
   "outputs": [
    {
     "data": {
      "text/plain": [
       "<lxml.etree._ElementTree at 0x7fdc666e8dc8>"
      ]
     },
     "execution_count": 39,
     "metadata": {},
     "output_type": "execute_result"
    }
   ],
   "source": [
    "xml = objectify.parse('books.xml')\n",
    "xml"
   ]
  },
  {
   "cell_type": "code",
   "execution_count": 40,
   "metadata": {},
   "outputs": [],
   "source": [
    "root = xml.getroot()"
   ]
  },
  {
   "cell_type": "code",
   "execution_count": 41,
   "metadata": {},
   "outputs": [
    {
     "data": {
      "text/plain": [
       "'Ross, Mark'"
      ]
     },
     "execution_count": 41,
     "metadata": {},
     "output_type": "execute_result"
    }
   ],
   "source": [
    "root.Book.Author"
   ]
  },
  {
   "cell_type": "code",
   "execution_count": 42,
   "metadata": {},
   "outputs": [
    {
     "data": {
      "text/plain": [
       "[<Element Book at 0x7fdc666e6ac8>, <Element Book at 0x7fdc666d6ac8>]"
      ]
     },
     "execution_count": 42,
     "metadata": {},
     "output_type": "execute_result"
    }
   ],
   "source": [
    "root.getchildren()"
   ]
  },
  {
   "cell_type": "code",
   "execution_count": 43,
   "metadata": {},
   "outputs": [
    {
     "data": {
      "text/plain": [
       "['Author', 'Title', 'Genre', 'Price', 'PublishDate']"
      ]
     },
     "execution_count": 43,
     "metadata": {},
     "output_type": "execute_result"
    }
   ],
   "source": [
    "[child.tag for child in root.Book.getchildren()]"
   ]
  },
  {
   "cell_type": "code",
   "execution_count": 44,
   "metadata": {},
   "outputs": [
    {
     "data": {
      "text/plain": [
       "['Ross, Mark', 'XML Cookbook', 'Computer', '23.56', '2014-22-01']"
      ]
     },
     "execution_count": 44,
     "metadata": {},
     "output_type": "execute_result"
    }
   ],
   "source": [
    "[child.text for child in root.Book.getchildren()]"
   ]
  },
  {
   "cell_type": "markdown",
   "metadata": {},
   "source": [
    "## JSON Data"
   ]
  },
  {
   "cell_type": "code",
   "execution_count": 46,
   "metadata": {},
   "outputs": [
    {
     "data": {
      "text/html": [
       "<div>\n",
       "<style scoped>\n",
       "    .dataframe tbody tr th:only-of-type {\n",
       "        vertical-align: middle;\n",
       "    }\n",
       "\n",
       "    .dataframe tbody tr th {\n",
       "        vertical-align: top;\n",
       "    }\n",
       "\n",
       "    .dataframe thead th {\n",
       "        text-align: right;\n",
       "    }\n",
       "</style>\n",
       "<table border=\"1\" class=\"dataframe\">\n",
       "  <thead>\n",
       "    <tr style=\"text-align: right;\">\n",
       "      <th></th>\n",
       "      <th>pen</th>\n",
       "      <th>mug</th>\n",
       "      <th>album</th>\n",
       "      <th>glass</th>\n",
       "    </tr>\n",
       "  </thead>\n",
       "  <tbody>\n",
       "    <tr>\n",
       "      <th>white</th>\n",
       "      <td>0</td>\n",
       "      <td>1</td>\n",
       "      <td>2</td>\n",
       "      <td>3</td>\n",
       "    </tr>\n",
       "    <tr>\n",
       "      <th>blue</th>\n",
       "      <td>4</td>\n",
       "      <td>5</td>\n",
       "      <td>6</td>\n",
       "      <td>7</td>\n",
       "    </tr>\n",
       "    <tr>\n",
       "      <th>red</th>\n",
       "      <td>8</td>\n",
       "      <td>9</td>\n",
       "      <td>10</td>\n",
       "      <td>11</td>\n",
       "    </tr>\n",
       "    <tr>\n",
       "      <th>black</th>\n",
       "      <td>12</td>\n",
       "      <td>13</td>\n",
       "      <td>14</td>\n",
       "      <td>15</td>\n",
       "    </tr>\n",
       "  </tbody>\n",
       "</table>\n",
       "</div>"
      ],
      "text/plain": [
       "       pen  mug  album  glass\n",
       "white    0    1      2      3\n",
       "blue     4    5      6      7\n",
       "red      8    9     10     11\n",
       "black   12   13     14     15"
      ]
     },
     "execution_count": 46,
     "metadata": {},
     "output_type": "execute_result"
    }
   ],
   "source": [
    "frame5 = pd.DataFrame(np.arange(16).reshape(4,4),\n",
    "                     index = ['white', 'blue', 'red', 'black'],\n",
    "                     columns = ['pen', 'mug', 'album', 'glass'])\n",
    "frame5"
   ]
  },
  {
   "cell_type": "code",
   "execution_count": 47,
   "metadata": {},
   "outputs": [],
   "source": [
    "frame5.to_json('frame.json')"
   ]
  },
  {
   "cell_type": "code",
   "execution_count": 49,
   "metadata": {},
   "outputs": [
    {
     "data": {
      "text/html": [
       "<div>\n",
       "<style scoped>\n",
       "    .dataframe tbody tr th:only-of-type {\n",
       "        vertical-align: middle;\n",
       "    }\n",
       "\n",
       "    .dataframe tbody tr th {\n",
       "        vertical-align: top;\n",
       "    }\n",
       "\n",
       "    .dataframe thead th {\n",
       "        text-align: right;\n",
       "    }\n",
       "</style>\n",
       "<table border=\"1\" class=\"dataframe\">\n",
       "  <thead>\n",
       "    <tr style=\"text-align: right;\">\n",
       "      <th></th>\n",
       "      <th>pen</th>\n",
       "      <th>mug</th>\n",
       "      <th>album</th>\n",
       "      <th>glass</th>\n",
       "    </tr>\n",
       "  </thead>\n",
       "  <tbody>\n",
       "    <tr>\n",
       "      <th>black</th>\n",
       "      <td>12</td>\n",
       "      <td>13</td>\n",
       "      <td>14</td>\n",
       "      <td>15</td>\n",
       "    </tr>\n",
       "    <tr>\n",
       "      <th>blue</th>\n",
       "      <td>4</td>\n",
       "      <td>5</td>\n",
       "      <td>6</td>\n",
       "      <td>7</td>\n",
       "    </tr>\n",
       "    <tr>\n",
       "      <th>red</th>\n",
       "      <td>8</td>\n",
       "      <td>9</td>\n",
       "      <td>10</td>\n",
       "      <td>11</td>\n",
       "    </tr>\n",
       "    <tr>\n",
       "      <th>white</th>\n",
       "      <td>0</td>\n",
       "      <td>1</td>\n",
       "      <td>2</td>\n",
       "      <td>3</td>\n",
       "    </tr>\n",
       "  </tbody>\n",
       "</table>\n",
       "</div>"
      ],
      "text/plain": [
       "       pen  mug  album  glass\n",
       "black   12   13     14     15\n",
       "blue     4    5      6      7\n",
       "red      8    9     10     11\n",
       "white    0    1      2      3"
      ]
     },
     "execution_count": 49,
     "metadata": {},
     "output_type": "execute_result"
    }
   ],
   "source": [
    "pd.read_json('frame.json')"
   ]
  }
 ],
 "metadata": {
  "kernelspec": {
   "display_name": "Python 3",
   "language": "python",
   "name": "python3"
  },
  "language_info": {
   "codemirror_mode": {
    "name": "ipython",
    "version": 3
   },
   "file_extension": ".py",
   "mimetype": "text/x-python",
   "name": "python",
   "nbconvert_exporter": "python",
   "pygments_lexer": "ipython3",
   "version": "3.7.3"
  }
 },
 "nbformat": 4,
 "nbformat_minor": 2
}
